{
 "cells": [
  {
   "cell_type": "markdown",
   "metadata": {},
   "source": [
    "# Getting Python\n",
    "\n",
    "\n",
    "For this course, we are going to use Jupyter notebook as our environment for developing Python code.\n",
    "refer to https://jupyter.readthedocs.io/en/latest/content-quickstart.html on the instructions how to install it, the easiest way is to install from Anaconda (https://www.anaconda.com/download/) website, make sure you install (Version 4.4.0, Release Date: May 31, 2017) with Python 3.6.\n",
    "\n",
    "Also, it is good for the students who are not familiar with python (or they need a quick refreshment) to follow Jim Bagrow tutorial http://bagrow.com/ds1/whirlwindtourpython/00-Title.html. \n",
    "\n",
    "All the assignments to be written in Python 3.6 and can be run using Jupyter on one of the following Internet browsers (Chrome, Safari or Firefox), these are the browsers that officially supported by jupyter.\n",
    "\n",
    "<u> Note: for this assignment, submit your local copy of this page, running on IPython. Submit the file to Blackboard under Assignment1 using this file format:</u> <b>Yourfirstname_lastname_Assignment4.ipynb</b> \n",
    "\n",
    "#### <b>Deadline</b>: <u>Monday, Dec-04-2017 11:59 PM.</u>"
   ]
  },
  {
   "cell_type": "markdown",
   "metadata": {},
   "source": [
    "## Assignment 4\n",
    "\n",
    "In assignment 4 use tensor flow to build and train neural network architectures in part1 and part2.\n",
    "Hint: Refer to the MLP.ipynb from the shared documents on the black borad as an example to build and train a neural network using tensor flow from scratch.\n",
    "  "
   ]
  },
  {
   "cell_type": "markdown",
   "metadata": {},
   "source": [
    "#### Part 1\n",
    "In this part you are going to train a neural network on notMNIST dataset. The notMNIST dataset is a image recognition dataset of font glypyhs for the letters A through J useful with simple neural networks. It is quite similar to the classic MNIST dataset of handwritten digits 0 through 9. to make easy for you. the code below will load the notMNIST dataset into train, validation and testing arrays to use them during the training of the network.  \n",
    "you need to download notMNIST.data from this link ...\n",
    "\n",
    "https://drive.google.com/file/d/1ablp83xroWod-Mfr0dGlVM49YXNm32l7/view?usp=sharing"
   ]
  },
  {
   "cell_type": "code",
   "execution_count": 45,
   "metadata": {},
   "outputs": [
    {
     "name": "stdout",
     "output_type": "stream",
     "text": [
      "Training set (200000, 28, 28) (200000,)\n",
      "Validation set (10000, 28, 28) (10000,)\n",
      "Test set (10000, 28, 28) (10000,)\n"
     ]
    }
   ],
   "source": [
    "import numpy as np \n",
    "import tensorflow as tf\n",
    "import matplotlib.pyplot as plt\n",
    "from six.moves import cPickle as loader\n",
    "from six.moves import range\n",
    "from sklearn.preprocessing import OneHotEncoder\n",
    "\n",
    "\n",
    "data_file = 'notMNIST.data'\n",
    "\n",
    "with open(data_file, 'rb') as f:\n",
    "  data = loader.load(f)\n",
    "  train_dataset = data['train_dataset']\n",
    "  train_labels = data['train_labels']\n",
    "  valid_dataset = data['valid_dataset']\n",
    "  valid_labels = data['valid_labels']\n",
    "  test_dataset = data['test_dataset']\n",
    "  test_labels = data['test_labels']\n",
    "  del data \n",
    "\n",
    "  print('Training set', train_dataset.shape, train_labels.shape)\n",
    "  print('Validation set', valid_dataset.shape, valid_labels.shape)\n",
    "  print('Test set', test_dataset.shape, test_labels.shape)"
   ]
  },
  {
   "cell_type": "markdown",
   "metadata": {},
   "source": [
    "a. Convince yourself about the data by showing few  images and printing the size of train/test/validation data arrays.[10 points]"
   ]
  },
  {
   "cell_type": "code",
   "execution_count": 46,
   "metadata": {},
   "outputs": [
    {
     "data": {
      "image/png": "[encoded data removed]",
      "text/plain": [
       "<matplotlib.figure.Figure at 0x1443bfcf8>"
      ]
     },
     "metadata": {},
     "output_type": "display_data"
    },
    {
     "name": "stdout",
     "output_type": "stream",
     "text": [
      "The letter in this image is E \n",
      "\n"
     ]
    },
    {
     "data": {
      "image/png": "[encoded data removed]",
      "text/plain": [
       "<matplotlib.figure.Figure at 0x16ac6afd0>"
      ]
     },
     "metadata": {},
     "output_type": "display_data"
    },
    {
     "name": "stdout",
     "output_type": "stream",
     "text": [
      "The letter in this image is J \n",
      "\n"
     ]
    },
    {
     "data": {
      "image/png": "[encoded data removed]",
      "text/plain": [
       "<matplotlib.figure.Figure at 0x16ab56978>"
      ]
     },
     "metadata": {},
     "output_type": "display_data"
    },
    {
     "name": "stdout",
     "output_type": "stream",
     "text": [
      "The letter in this image is G \n",
      "\n"
     ]
    },
    {
     "data": {
      "image/png": "[encoded data removed]",
      "text/plain": [
       "<matplotlib.figure.Figure at 0x16b1dcda0>"
      ]
     },
     "metadata": {},
     "output_type": "display_data"
    },
    {
     "name": "stdout",
     "output_type": "stream",
     "text": [
      "The letter in this image is C \n",
      "\n"
     ]
    },
    {
     "data": {
      "image/png": "[encoded data removed]",
      "text/plain": [
       "<matplotlib.figure.Figure at 0x143ce5f60>"
      ]
     },
     "metadata": {},
     "output_type": "display_data"
    },
    {
     "name": "stdout",
     "output_type": "stream",
     "text": [
      "The letter in this image is H \n",
      "\n",
      "Training set (200000, 28, 28) (200000,)\n",
      "Validation set (10000, 28, 28) (10000,)\n",
      "Test set (10000, 28, 28) (10000,)\n"
     ]
    }
   ],
   "source": [
    "#show the fisrt five images\n",
    "for i in range(5):\n",
    "    image= train_dataset[i]\n",
    "    plt.imshow(image, cmap=plt.cm.gray)\n",
    "    plt.show()\n",
    "    print('The letter in this image is', chr(train_labels[i]+ ord('A')), '\\n')\n",
    "\n",
    "#print the size of train/test/validation data arrays\n",
    "#print(type(train_dataset))\n",
    "print('Training set', train_dataset.shape, train_labels.shape)\n",
    "print('Validation set', valid_dataset.shape, valid_labels.shape)\n",
    "print('Test set', test_dataset.shape, test_labels.shape)"
   ]
  },
  {
   "cell_type": "markdown",
   "metadata": {},
   "source": [
    "b.  Reformat data to shape that's make it easy to train neural network models:\n",
    "-\t Reshape the data to a flat matrix.[5 points]. Hint: For example convert training dataset to have (200000, 784) shape, do the same for the rest of the arrays.\n",
    "-\t Reformat the output to 1-hot encodings. [5 points]\n"
   ]
  },
  {
   "cell_type": "code",
   "execution_count": 47,
   "metadata": {},
   "outputs": [
    {
     "name": "stdout",
     "output_type": "stream",
     "text": [
      "Training dataset (200000, 784)\n",
      "Validation dataset (10000, 784)\n",
      "Test dataset (10000, 784)\n",
      "Training labels (200000, 10)\n",
      "Validation labels (10000, 10)\n",
      "Test labels (10000, 10)\n"
     ]
    }
   ],
   "source": [
    "#reshape dataset to a flat matrix\n",
    "train_dataset_flat = np.reshape(train_dataset, (200000,784))\n",
    "valid_dataset_flat = np.reshape(valid_dataset, (10000,784))\n",
    "test_dataset_flat = np.reshape(test_dataset, (10000,784))\n",
    "print('Training dataset', train_dataset_flat.shape)\n",
    "print('Validation dataset', valid_dataset_flat.shape)\n",
    "print('Test dataset', test_dataset_flat.shape)\n",
    "\n",
    "#function to reformat the output to 1-hot encodings\n",
    "def onehot_encoding(dataset):\n",
    "    onehot_encoder = OneHotEncoder(sparse=False)\n",
    "    dataset = dataset.reshape(len(dataset), 1)\n",
    "    dataset_output = onehot_encoder.fit_transform(dataset)\n",
    "    return dataset_output\n",
    "\n",
    "train_labels_encoded = onehot_encoding(train_labels)\n",
    "valid_labels_encoded = onehot_encoding(valid_labels)\n",
    "test_labels_encoded = onehot_encoding(test_labels)\n",
    "print('Training labels', train_labels_encoded.shape)\n",
    "print('Validation labels', valid_labels_encoded.shape)\n",
    "print('Test labels', test_labels_encoded.shape)"
   ]
  },
  {
   "cell_type": "markdown",
   "metadata": {},
   "source": [
    "c. Refer to the neural network lecture to answer the following questions (no need to code or to show experimental results for this question) [15 points]:\n",
    "- the best activation function.\n",
    "- the best initialization.\n",
    "- Best gradient descent update learning rule. \n",
    "    "
   ]
  },
  {
   "cell_type": "markdown",
   "metadata": {
    "collapsed": true
   },
   "source": [
    "The best activation function is ReLU.\n",
    "\n",
    "The best initialization is \n",
    "W = np.random.randn(fan_in, fan_out)/np.sqrt(fan_in/2) introduced by He et al. in 2015, which is recommended with ReLU.\n",
    "\n",
    "Best gradient descent update learning rule is Adam.\n"
   ]
  },
  {
   "cell_type": "markdown",
   "metadata": {},
   "source": [
    "d. Train a multi-layer neural network of one hidden layer neural network using the best: activation, initialization and gradient descent learning rule that you found in the previous question. \n",
    "Train for 15 epochs with a  batch size of 128 and pick the model that has less validation error and report the testing error for that model. Use the accuracy metric to measure the performance. [35 points]\n"
   ]
  },
  {
   "cell_type": "code",
   "execution_count": 4,
   "metadata": {
    "collapsed": true
   },
   "outputs": [],
   "source": [
    "# define the network toplogies, one hidden neural network with input diminsion of 784 and output diminsion of 10\n",
    "n_hidden = 256 \n",
    "n_input    = 784 \n",
    "n_classes  = 10  \n",
    "\n",
    "# placeholder for input and output, None: means it could be of any diminsion\n",
    "x = tf.placeholder(\"float\", [None, n_input])\n",
    "y = tf.placeholder(\"float\", [None, n_classes])\n",
    "\n",
    "# network parameters \n",
    "initializer = tf.contrib.layers.variance_scaling_initializer()\n",
    "weights = {\n",
    "    'h': tf.Variable(initializer([n_input, n_hidden])),\n",
    "    'out': tf.Variable(initializer([n_hidden, n_classes]))\n",
    "}\n",
    "biases = {\n",
    "    'b': tf.Variable(initializer([n_hidden])),\n",
    "    'out': tf.Variable(initializer([n_classes]))\n",
    "}\n",
    "# weights = {\n",
    "#     'h': tf.get_variable('1',shape=[n_input, n_hidden],initializer=tf.contrib.layers.variance_scaling_initializer()),\n",
    "#     'out': tf.get_variable('2',shape=[n_hidden, n_classes],initializer=tf.contrib.layers.variance_scaling_initializer())\n",
    "# }\n",
    "# biases = {\n",
    "#     'b': tf.get_variable('3',shape=[n_hidden],initializer=tf.contrib.layers.variance_scaling_initializer()),\n",
    "#     'out': tf.get_variable('4',shape=[n_classes],initializer=tf.contrib.layers.variance_scaling_initializer())\n",
    "# }"
   ]
  },
  {
   "cell_type": "code",
   "execution_count": 69,
   "metadata": {
    "collapsed": true
   },
   "outputs": [],
   "source": [
    "#define ReLU as active function\n",
    "def multilayer_perceptron(_X, _weights, _biases):\n",
    "    layer =  tf.nn.relu(tf.add(tf.matmul(_X, _weights['h']), _biases['b']))\n",
    "    return (tf.matmul(layer, _weights['out']) + _biases['out'])"
   ]
  },
  {
   "cell_type": "code",
   "execution_count": 70,
   "metadata": {
    "collapsed": true
   },
   "outputs": [],
   "source": [
    "# build the network graph\n",
    "pred = multilayer_perceptron(x, weights, biases)\n",
    "# use softmax cross entropy as the loss(cost) function\n",
    "cost = tf.reduce_mean(tf.nn.softmax_cross_entropy_with_logits(logits = pred, labels=y)) \n",
    "# define optimizer\n",
    "optm = tf.train.AdamOptimizer().minimize(cost) \n",
    "# measuring the accuracy\n",
    "corr = tf.equal(tf.argmax(pred, 1), tf.argmax(y, 1))\n",
    "accr = tf.reduce_mean(tf.cast(corr, \"float\"))"
   ]
  },
  {
   "cell_type": "code",
   "execution_count": 71,
   "metadata": {},
   "outputs": [
    {
     "name": "stdout",
     "output_type": "stream",
     "text": [
      "ready to go ...\n",
      "Epoch: 003/015 cost: 0.301535394\n",
      "Train Accuracy: 0.882\n",
      "Valid Accuracy: 0.887\n",
      "Epoch: 007/015 cost: 0.231270141\n",
      "Train Accuracy: 0.921\n",
      "Valid Accuracy: 0.892\n",
      "Epoch: 011/015 cost: 0.185920580\n",
      "Train Accuracy: 0.969\n",
      "Valid Accuracy: 0.891\n",
      "optimization finished \n",
      "\n",
      "The best valid Accuracy: 0.892\n",
      "The test Accuracy for best valid Accuracy model: 0.949\n",
      "The test error for best valid Accuracy model: 0.051\n"
     ]
    }
   ],
   "source": [
    "# Training params\n",
    "training_epochs = 15\n",
    "batch_size      = 128 # use mini-batch\n",
    "display_step    = 4 # display results every 4 epochs\n",
    "valid_acc_best = 0.\n",
    "test_acc_betst =0.\n",
    "# launch the graph using Session()\n",
    "sess = tf.Session()\n",
    "# initilize all the graph parameters.\n",
    "# run with the initiales\n",
    "sess.run(tf.global_variables_initializer())\n",
    "\n",
    "print (\"ready to go ...\")\n",
    "# optimization code, we used here stochastic gradient descent SGD.\n",
    "for epoch in range(training_epochs):\n",
    "    avg_cost = 0.\n",
    "    total_batch = int(train_dataset_flat.shape[0]/batch_size)\n",
    "    # iterate\n",
    "    for i in range(total_batch):\n",
    "        batch_xs = train_dataset_flat[batch_size*i:batch_size*(i+1)-1]\n",
    "        #print(batch_xs.shape)\n",
    "        batch_ys = train_labels_encoded[batch_size*i:batch_size*(i+1)-1]\n",
    "        #print(batch_ys.shape)\n",
    "        feeds = {x: batch_xs, y: batch_ys}\n",
    "        sess.run(optm, feed_dict=feeds)\n",
    "        avg_cost += sess.run(cost, feed_dict=feeds) # to calculate the cost\n",
    "    avg_cost = avg_cost / total_batch\n",
    "    # display\n",
    "    if (epoch+1) % 1 == 0:\n",
    "        feeds = {x: batch_xs, y: batch_ys}\n",
    "        train_acc = sess.run(accr, feed_dict=feeds)    \n",
    "        feeds = {x: valid_dataset_flat, y: valid_labels_encoded}\n",
    "        valid_acc = sess.run(accr, feed_dict=feeds)\n",
    "        feeds = {x: test_dataset_flat, y: test_labels_encoded}\n",
    "        test_acc = sess.run(accr, feed_dict=feeds)\n",
    "        if valid_acc_best <= valid_acc:\n",
    "            valid_acc_best = valid_acc\n",
    "            test_acc_best = test_acc\n",
    "        if (epoch+1) % display_step == 0:\n",
    "            print (\"Epoch: %03d/%03d cost: %.9f\" % (epoch, training_epochs, avg_cost))\n",
    "            print (\"Train Accuracy: %.3f\" % (train_acc))\n",
    "            print (\"Valid Accuracy: %.3f\" % (valid_acc))\n",
    "\n",
    "print (\"optimization finished \\n\")\n",
    "print (\"The best valid Accuracy: %.3f\" % (valid_acc_best))\n",
    "print (\"The test Accuracy for best valid Accuracy model: %.3f\" % (test_acc_best))\n",
    "print (\"The test error for best valid Accuracy model: %.3f\" % (1-test_acc_best))\n",
    "sess.close()"
   ]
  },
  {
   "cell_type": "markdown",
   "metadata": {},
   "source": [
    "e. (This part for graduate students only) Which regularization method is the best to use, L2, dropout or Batch Normalization (justify your answer experimentally). does the batch normalization help in converging the network faster ? [30 points]\n"
   ]
  },
  {
   "cell_type": "markdown",
   "metadata": {},
   "source": [
    "## L2 Regularization"
   ]
  },
  {
   "cell_type": "code",
   "execution_count": 72,
   "metadata": {},
   "outputs": [
    {
     "name": "stdout",
     "output_type": "stream",
     "text": [
      "ready to go ...\n",
      "***************************** L2 Regularization *********************************************\n",
      "Epoch: 003/015 cost: 0.710508094\n",
      "Train Accuracy: 0.819\n",
      "Valid Accuracy: 0.836\n",
      "Epoch: 007/015 cost: 0.702673132\n",
      "Train Accuracy: 0.819\n",
      "Valid Accuracy: 0.838\n",
      "Epoch: 011/015 cost: 0.700404129\n",
      "Train Accuracy: 0.819\n",
      "Valid Accuracy: 0.838\n",
      "optimization finished \n",
      "\n",
      "The best valid Accuracy: 0.839\n",
      "The test Accuracy for best valid Accuracy model: 0.906\n",
      "The test error for best valid Accuracy model: 0.094\n"
     ]
    }
   ],
   "source": [
    "#L2 Regularization\n",
    "beta = 0.01\n",
    "cost_l2 = tf.reduce_mean(tf.nn.softmax_cross_entropy_with_logits(logits = pred, labels=y) + beta*tf.nn.l2_loss(weights['h']) +beta*tf.nn.l2_loss(weights['out']))\n",
    "optm_l2 = tf.train.AdamOptimizer().minimize(cost_l2) \n",
    "\n",
    "# Training params\n",
    "training_epochs = 15\n",
    "batch_size      = 128 # use mini-batch\n",
    "display_step    = 4 # display results every 4 epochs\n",
    "valid_acc_best = 0.\n",
    "test_acc_best = 0.\n",
    "# launch the graph using Session()\n",
    "sess = tf.Session()\n",
    "# initilize all the graph parameters.\n",
    "# run with the initiales\n",
    "sess.run(tf.global_variables_initializer())\n",
    "print (\"ready to go ...\")\n",
    "print('***************************** L2 Regularization *********************************************')\n",
    "\n",
    "# optimization code, we used here stochastic gradient descent SGD.\n",
    "for epoch in range(training_epochs):\n",
    "    avg_cost = 0.\n",
    "    total_batch = int(train_dataset_flat.shape[0]/batch_size)\n",
    "    # iterate\n",
    "    for i in range(total_batch):\n",
    "        batch_xs = train_dataset_flat[batch_size*i:batch_size*(i+1)-1]\n",
    "        #print(batch_xs.shape)\n",
    "        batch_ys = train_labels_encoded[batch_size*i:batch_size*(i+1)-1]\n",
    "        #print(batch_ys.shape)\n",
    "        feeds = {x: batch_xs, y: batch_ys}\n",
    "        sess.run(optm_l2, feed_dict=feeds)\n",
    "        avg_cost += sess.run(cost_l2, feed_dict=feeds) # to calculate the cost\n",
    "    avg_cost = avg_cost / total_batch\n",
    "    # display\n",
    "    if (epoch+1) % 1 == 0:\n",
    "        feeds = {x: batch_xs, y: batch_ys}\n",
    "        train_acc = sess.run(accr, feed_dict=feeds)    \n",
    "        feeds = {x: valid_dataset_flat, y: valid_labels_encoded}\n",
    "        valid_acc = sess.run(accr, feed_dict=feeds)\n",
    "        feeds = {x: test_dataset_flat, y: test_labels_encoded}\n",
    "        test_acc = sess.run(accr, feed_dict=feeds)\n",
    "        if valid_acc_best <= valid_acc:\n",
    "            valid_acc_best = valid_acc\n",
    "            test_acc_best = test_acc\n",
    "        if (epoch+1) % display_step == 0:\n",
    "            print (\"Epoch: %03d/%03d cost: %.9f\" % (epoch, training_epochs, avg_cost))\n",
    "            print (\"Train Accuracy: %.3f\" % (train_acc))\n",
    "            print (\"Valid Accuracy: %.3f\" % (valid_acc))\n",
    "    \n",
    "print (\"optimization finished \\n\")\n",
    "print (\"The best valid Accuracy: %.3f\" % (valid_acc_best))\n",
    "print (\"The test Accuracy for best valid Accuracy model: %.3f\" % (test_acc_best))\n",
    "print (\"The test error for best valid Accuracy model: %.3f\" % (1-test_acc_best))\n",
    "sess.close()\n"
   ]
  },
  {
   "cell_type": "markdown",
   "metadata": {},
   "source": [
    "## Dropout"
   ]
  },
  {
   "cell_type": "code",
   "execution_count": 89,
   "metadata": {},
   "outputs": [
    {
     "name": "stdout",
     "output_type": "stream",
     "text": [
      "ready to go ...\n",
      "***************************** Dropout *********************************************\n",
      "Epoch: 003/015 cost: 0.464916616\n",
      "Train Accuracy: 0.843\n",
      "Valid Accuracy: 0.878\n",
      "Epoch: 007/015 cost: 0.429267553\n",
      "Train Accuracy: 0.843\n",
      "Valid Accuracy: 0.882\n",
      "Epoch: 011/015 cost: 0.405968954\n",
      "Train Accuracy: 0.850\n",
      "Valid Accuracy: 0.886\n",
      "optimization finished \n",
      "\n",
      "The best valid Accuracy: 0.889\n",
      "The test Accuracy for best valid Accuracy model: 0.948\n",
      "The test error for best valid Accuracy model: 0.052\n"
     ]
    }
   ],
   "source": [
    "#Dropout \n",
    "keep_prob = tf.placeholder(\"float\")\n",
    "# Training computation.\n",
    "logits_1 = tf.matmul(x, weights['h']) + biases['b']\n",
    "relu_layer= tf.nn.relu(logits_1)\n",
    "# Dropout on hidden layer: RELU layer\n",
    "relu_layer_dropout = tf.nn.dropout(relu_layer, keep_prob)\n",
    "logits_2 = tf.matmul(relu_layer_dropout, weights['out']) + biases['out']\n",
    "# Normal loss function\n",
    "cost_dropout = tf.reduce_mean(tf.nn.softmax_cross_entropy_with_logits(logits = logits_2, labels=y))\n",
    "optm_dropout = tf.train.AdamOptimizer().minimize(cost_dropout) \n",
    "\n",
    "corr_dropout = tf.equal(tf.argmax(logits_2, 1), tf.argmax(y, 1))\n",
    "accr_dropout = tf.reduce_mean(tf.cast(corr_dropout, \"float\"))\n",
    "\n",
    "print(\"ready to go ...\")\n",
    "print('***************************** Dropout *********************************************')\n",
    "\n",
    "# Training params\n",
    "training_epochs = 15\n",
    "batch_size      = 128 # use mini-batch\n",
    "display_step    = 4 # display results every 4 epochs\n",
    "valid_acc_best = 0.\n",
    "test_acc_best = 0.\n",
    "# launch the graph using Session()\n",
    "# initilize all the graph parameters.\n",
    "sess = tf.Session()\n",
    "sess.run(tf.global_variables_initializer())\n",
    "\n",
    "# optimization code, we used here stochastic gradient descent SGD.\n",
    "for epoch in range(training_epochs):\n",
    "    avg_cost = 0.\n",
    "    total_batch = int(train_dataset_flat.shape[0]/batch_size)\n",
    "    # iterate\n",
    "    for i in range(total_batch):\n",
    "        batch_xs = train_dataset_flat[batch_size*i:batch_size*(i+1)-1]\n",
    "        #print(batch_xs.shape)\n",
    "        batch_ys = train_labels_encoded[batch_size*i:batch_size*(i+1)-1]\n",
    "        #print(batch_ys.shape)\n",
    "        feeds = {x: batch_xs, y: batch_ys, keep_prob: 0.5}\n",
    "        sess.run(optm_dropout, feed_dict=feeds)\n",
    "        avg_cost += sess.run(cost_dropout, feed_dict=feeds) # to calculate the cost\n",
    "    avg_cost = avg_cost / total_batch\n",
    "    # display\n",
    "    if (epoch+1) % 1 == 0:\n",
    "        feeds = {x: batch_xs, y: batch_ys, keep_prob: 0.5}\n",
    "        train_acc = sess.run(accr_dropout, feed_dict=feeds)    \n",
    "        feeds = {x: valid_dataset_flat, y: valid_labels_encoded, keep_prob: 1}\n",
    "        valid_acc = sess.run(accr_dropout, feed_dict=feeds)\n",
    "        feeds = {x: test_dataset_flat, y: test_labels_encoded, keep_prob: 1}\n",
    "        test_acc = sess.run(accr_dropout, feed_dict=feeds)\n",
    "    if valid_acc_best <= valid_acc:\n",
    "            valid_acc_best = valid_acc\n",
    "            test_acc_best = test_acc\n",
    "    if (epoch+1) % display_step == 0:\n",
    "            print (\"Epoch: %03d/%03d cost: %.9f\" % (epoch, training_epochs, avg_cost))\n",
    "            print (\"Train Accuracy: %.3f\" % (train_acc))\n",
    "            print (\"Valid Accuracy: %.3f\" % (valid_acc))\n",
    "\n",
    "print (\"optimization finished \\n\")\n",
    "print (\"The best valid Accuracy: %.3f\" % (valid_acc_best))\n",
    "print (\"The test Accuracy for best valid Accuracy model: %.3f\" % (test_acc_best))\n",
    "print (\"The test error for best valid Accuracy model: %.3f\" % (1-test_acc_best))\n",
    "sess.close()"
   ]
  },
  {
   "cell_type": "markdown",
   "metadata": {},
   "source": [
    "## Batch Normalization"
   ]
  },
  {
   "cell_type": "code",
   "execution_count": 90,
   "metadata": {},
   "outputs": [
    {
     "name": "stdout",
     "output_type": "stream",
     "text": [
      "ready to go ...\n",
      "***************************** Batch Normalization *********************************************\n",
      "Epoch: 003/015 cost: 0.299544014\n",
      "Train Accuracy: 0.874\n",
      "Valid Accuracy: 0.888\n",
      "Epoch: 007/015 cost: 0.221601382\n",
      "Train Accuracy: 0.921\n",
      "Valid Accuracy: 0.889\n",
      "Epoch: 011/015 cost: 0.170271823\n",
      "Train Accuracy: 0.937\n",
      "Valid Accuracy: 0.884\n",
      "optimization finished \n",
      "\n",
      "The best valid Accuracy: 0.890\n",
      "The test Accuracy for best valid Accuracy model: 0.949\n",
      "The test error for best valid Accuracy model: 0.051\n"
     ]
    }
   ],
   "source": [
    "#Batch Normalization\n",
    "# Small epsilon value for the BN transform\n",
    "epsilon = 1e-3\n",
    "# Note that pre-batch normalization bias is ommitted.\n",
    "z1_BN = tf.matmul(x, weights['h'])\n",
    "#print(z1_BN)\n",
    "# Calculate batch mean and variance\n",
    "batch_mean1, batch_var1 = tf.nn.moments(z1_BN,[0])\n",
    "#print(batch_mean1)\n",
    "# Apply the initial batch normalizing transform\n",
    "z1_hat = (z1_BN - batch_mean1) / tf.sqrt(batch_var1 + epsilon)\n",
    "# Create two new parameters, scale and beta (shift)\n",
    "scale1 = tf.Variable(tf.ones([256]))\n",
    "beta1 = tf.Variable(tf.zeros([256]))\n",
    "# Scale and shift to obtain the final output of the batch normalization\n",
    "BN2 = tf.nn.batch_normalization(z1_BN,batch_mean1,batch_var1,beta1,scale1,epsilon)\n",
    "l1_BN = tf.nn.relu(BN2)\n",
    "l2 = tf.matmul(l1_BN, weights['out']) + biases['out']\n",
    "# Normal loss function\n",
    "cost_BN = tf.reduce_mean(tf.nn.softmax_cross_entropy_with_logits(logits = l2, labels=y))\n",
    "optm_BN = tf.train.AdamOptimizer(learning_rate=0.01).minimize(cost_BN) \n",
    "\n",
    "corr_BN = tf.equal(tf.argmax(l2, 1), tf.argmax(y, 1))\n",
    "accr_BN = tf.reduce_mean(tf.cast(corr_BN, \"float\"))\n",
    "\n",
    "# Training params\n",
    "training_epochs = 15\n",
    "batch_size      = 128 # use mini-batch\n",
    "display_step    = 4 # display results every 4 epochs\n",
    "valid_acc_best = 0.\n",
    "test_acc_best = 0.\n",
    "# initilize all the graph parameters.\n",
    "# launch the graph using Session()\n",
    "sess = tf.Session()\n",
    "sess.run(tf.global_variables_initializer())\n",
    "\n",
    "print (\"ready to go ...\")\n",
    "print('***************************** Batch Normalization *********************************************')\n",
    "\n",
    "# optimization code, we used here stochastic gradient descent SGD.\n",
    "for epoch in range(training_epochs):\n",
    "    avg_cost = 0.\n",
    "    total_batch = int(train_dataset_flat.shape[0]/batch_size)\n",
    "    # iterate\n",
    "    for i in range(total_batch):\n",
    "        batch_xs = train_dataset_flat[batch_size*i:batch_size*(i+1)-1]\n",
    "        #print(batch_xs.shape)\n",
    "        batch_ys = train_labels_encoded[batch_size*i:batch_size*(i+1)-1]\n",
    "        #print(batch_ys.shape)\n",
    "        feeds = {x: batch_xs, y: batch_ys}\n",
    "        sess.run(optm_BN, feed_dict=feeds)\n",
    "        avg_cost += sess.run(cost_BN, feed_dict=feeds) # to calculate the cost\n",
    "    avg_cost = avg_cost / total_batch\n",
    "    # display\n",
    "    # display\n",
    "    if (epoch+1) % 1 == 0:\n",
    "        feeds = {x: batch_xs, y: batch_ys}\n",
    "        train_acc = sess.run(accr_BN, feed_dict=feeds)    \n",
    "        feeds = {x: valid_dataset_flat, y: valid_labels_encoded}\n",
    "        valid_acc = sess.run(accr_BN, feed_dict=feeds)\n",
    "        feeds = {x: test_dataset_flat, y: test_labels_encoded}\n",
    "        test_acc = sess.run(accr_BN, feed_dict=feeds)\n",
    "        if valid_acc_best <= valid_acc:\n",
    "            valid_acc_best = valid_acc\n",
    "            test_acc_best = test_acc\n",
    "        if (epoch+1) % display_step == 0:\n",
    "            print (\"Epoch: %03d/%03d cost: %.9f\" % (epoch, training_epochs, avg_cost))\n",
    "            print (\"Train Accuracy: %.3f\" % (train_acc))\n",
    "            print (\"Valid Accuracy: %.3f\" % (valid_acc))\n",
    "\n",
    "print (\"optimization finished \\n\")\n",
    "print (\"The best valid Accuracy: %.3f\" % (valid_acc_best))\n",
    "print (\"The test Accuracy for best valid Accuracy model: %.3f\" % (test_acc_best))\n",
    "print (\"The test error for best valid Accuracy model: %.3f\" % (1-test_acc_best))\n",
    "sess.close()"
   ]
  },
  {
   "cell_type": "markdown",
   "metadata": {},
   "source": [
    "According to the experimental results, batch normalization is best to use, which shows the highest test accuracy. There are two ways that batch normalization potentially helps, one is faster learning and the other one is higher overall accuracy. Thus, batch normalization allows to use a higher learning rate, potentially proving a way to converge the network faster."
   ]
  },
  {
   "cell_type": "markdown",
   "metadata": {},
   "source": [
    "## Part 2"
   ]
  },
  {
   "cell_type": "markdown",
   "metadata": {},
   "source": [
    "(This whole part is for graduate students only) In this part you are going to train a convolutional neural network on notMNIST dataset, refer to part1 to use same training, validation and testing datasets. \n",
    "\n",
    "Start by reading the Deep MNIST for Experts tutorial on the tensorflow website (https://www.tensorflow.org/get_started/mnist/pros). \n",
    "Go through the examples provided in this tutorial. \n",
    "\n",
    "\n",
    "in here we are going to build a different network. It’d be helpful to quickly go through the examples provided in the tutorial.\n"
   ]
  },
  {
   "cell_type": "markdown",
   "metadata": {},
   "source": [
    "a. Define the model as indicated in the code below. The model is defined as follows:\n",
    "\n",
    "- An input that is 728 dimensional vector.\n",
    "- Reshape the input as 28x28x1 images (only 1 because they are grey scale)\n",
    "- A convolutional layer with 25 filters of shape 12x12x1 and a ReLU non-linearity (with stride (2, 2) and no padding)\n",
    "- A convolutional layer with 64 filters of shape 5x5x25 and a ReLU non-linearity (with stride (1, 2) and padding to maintain size)\n",
    "- A max_pooling layer of shape 2x2\n",
    "- A fully connected layer taking all the outputs of the max_pooling layer to 1024 units and ReLU nonlinearity\n",
    "- A fully connected layer taking 1024 units to 10 no activation function (the softmax non-linearity will be included in the loss function rather than in the model) [15 points]\n",
    "\n",
    "Hint: start from known architecture then modify the code to match the numbers listed above, you might need to have flat layer that flatten max pool layer data."
   ]
  },
  {
   "cell_type": "code",
   "execution_count": 41,
   "metadata": {
    "collapsed": true
   },
   "outputs": [],
   "source": [
    "import os\n",
    "import math\n",
    "\n",
    "#initialize weight\n",
    "def weight_variable(shape):\n",
    "  initial = tf.truncated_normal(shape, stddev=0.1)\n",
    "  return tf.Variable(initial)\n",
    "\n",
    "#initialize bias\n",
    "def bias_variable(shape):\n",
    "  initial = tf.constant(0.1, shape=shape)\n",
    "  return tf.Variable(initial)\n",
    "\n",
    "def conv2d_1(x, W, strides, padding):\n",
    "  return tf.nn.conv2d(x, W, strides=strides, padding=padding)\n",
    "\n",
    "def max_pool_2x2_1(x):\n",
    "  return tf.nn.max_pool(x, ksize=[1, 2, 2, 1], strides=[1, 2, 2, 1], padding='SAME')\n"
   ]
  },
  {
   "cell_type": "code",
   "execution_count": 35,
   "metadata": {
    "collapsed": true
   },
   "outputs": [],
   "source": [
    "#builds the graph for a deep net\n",
    "def deepnn(x):\n",
    "  # Reshape to use within a convolutional neural net.\n",
    "  # Last dimension is for \"features\" - there is only one here, since images are\n",
    "  # grayscale -- it would be 3 for an RGB image, 4 for RGBA, etc.\n",
    "  with tf.name_scope('reshape'):\n",
    "    x_image = tf.reshape(x, [-1, 28, 28, 1])\n",
    "\n",
    "  # First convolutional layer - maps one grayscale image to 25 feature maps.\n",
    "  with tf.name_scope('conv1'):\n",
    "    W_conv1 = weight_variable([12, 12, 1, 25])\n",
    "    b_conv1 = bias_variable([25])\n",
    "    h_conv1 = tf.nn.relu(conv2d_1(x_image, W_conv1, [1, 2, 2, 1], 'VALID') + b_conv1)\n",
    "\n",
    "  # Second convolutional layer -- maps 25 feature maps to 64.\n",
    "  with tf.name_scope('conv2'):\n",
    "    W_conv2 = weight_variable([5, 5, 25, 64])\n",
    "    b_conv2 = bias_variable([64])\n",
    "    h_conv2 = tf.nn.relu(conv2d_1(h_conv1, W_conv2, [1, 1, 2, 1], 'SAME') + b_conv2)\n",
    "\n",
    "  # First pooling layer.\n",
    "  with tf.name_scope('pool1'):\n",
    "    h_pool1 = max_pool_2x2_1(h_conv2)\n",
    "\n",
    "  # Fully connected layer 1 -- after 2 round of downsampling, our 28x28 image\n",
    "  # is down to 5x3x64 feature maps -- maps this to 1024 features.\n",
    "  with tf.name_scope('fc1'):\n",
    "    W_fc1 = weight_variable([5 * 3 * 64, 1024])\n",
    "    b_fc1 = bias_variable([1024])\n",
    "\n",
    "    h_pool1_flat = tf.reshape(h_pool1, [-1, 5 * 3 * 64])\n",
    "    h_fc1 = tf.nn.relu(tf.matmul(h_pool1_flat, W_fc1) + b_fc1)\n",
    "\n",
    "  # Map the 1024 features to 10 classes, one for each digit\n",
    "  with tf.name_scope('fc2'):\n",
    "    W_fc2 = weight_variable([1024, 10])\n",
    "    b_fc2 = bias_variable([10])\n",
    "\n",
    "    y_conv = tf.matmul(h_fc1, W_fc2) + b_fc2\n",
    "  return y_conv, W_conv1"
   ]
  },
  {
   "cell_type": "markdown",
   "metadata": {},
   "source": [
    "b. write the code to train the model written in (a), train for 15 epochs with a  batch size of 128. \n",
    "\n",
    "Loss Function, Accuracy and Training Algorithm\n",
    "\n",
    "- You will use the cross entropy loss function. The loss function is called tf.nn.cross_entropy_with_logits in tensorflow\n",
    "- Accuray is simply defined as the fraction of data correctly classified\n",
    "- For training you should use the AdamOptimizer (read the documentation) and initially pick the learning rate to be 0.05 (if this learning rate does not work, pick different learning rate) with decay step of 0.95 every 2000 iterations as showen in the code below. You are encouraged, to experiment with other optimisation procedures and learning rates. [25 points]\n",
    "    "
   ]
  },
  {
   "cell_type": "code",
   "execution_count": 36,
   "metadata": {
    "collapsed": true
   },
   "outputs": [],
   "source": [
    "# We'll use the cross entropy loss function \n",
    "y_conv, W_conv1 = deepnn(x)\n",
    "cross_entropy = tf.reduce_mean(tf.nn.softmax_cross_entropy_with_logits(logits=y_conv, labels=y))\n",
    "\n",
    "# And classification accuracy\n",
    "correct_prediction = tf.equal(tf.argmax(y_conv, 1), tf.argmax(y, 1))\n",
    "accuracy = tf.reduce_mean(tf.cast(correct_prediction, tf.float32))\n",
    "\n",
    "# And the Adam optimiser\n",
    "global_step = tf.Variable(0)\n",
    "learning_rate = tf.train.exponential_decay(0.05, global_step, 2000, 0.95)\n",
    "optimizer = tf.train.AdagradOptimizer(learning_rate).minimize(cross_entropy, global_step=global_step)"
   ]
  },
  {
   "cell_type": "code",
   "execution_count": 37,
   "metadata": {},
   "outputs": [
    {
     "name": "stdout",
     "output_type": "stream",
     "text": [
      "ready to go ...\n",
      "Epoch: 003/015 cost: 0.196267171\n",
      "Train Accuracy: 0.937\n",
      "Valid Accuracy: 0.899\n",
      "Epoch: 007/015 cost: 0.126739737\n",
      "Train Accuracy: 0.945\n",
      "Valid Accuracy: 0.907\n",
      "Epoch: 011/015 cost: 0.081585240\n",
      "Train Accuracy: 0.976\n",
      "Valid Accuracy: 0.909\n",
      "optimization finished \n",
      "\n",
      "The best valid Accuracy: 0.910\n",
      "The test Accuracy for best valid Accuracy model: 0.960\n"
     ]
    }
   ],
   "source": [
    "# Start a tf session and run the optimisation algorithm\n",
    "sess = tf.Session()\n",
    "sess.run(tf.global_variables_initializer())\n",
    "model_path = os.path.expanduser(\"~/Desktop/best_model.ckpt\")\n",
    "saver = tf.train.Saver()\n",
    "\n",
    "# Training params\n",
    "training_epochs = 15\n",
    "batch_size      = 128 # use mini-batch\n",
    "display_step    = 4 # display results every epoch\n",
    "valid_acc_best = 0.\n",
    "test_acc_betst =0.\n",
    "\n",
    "print (\"ready to go ...\")\n",
    "# optimization code, we used here stochastic gradient descent SGD.\n",
    "for epoch in range(training_epochs):\n",
    "    avg_cost = 0.\n",
    "    total_batch = int(train_dataset_flat.shape[0]/batch_size)\n",
    "    # iterate\n",
    "    for i in range(total_batch):\n",
    "        batch_xs = train_dataset_flat[batch_size*i:batch_size*(i+1)-1]\n",
    "        #print(batch_xs.shape)\n",
    "        batch_ys = train_labels_encoded[batch_size*i:batch_size*(i+1)-1]\n",
    "        #print(batch_ys.shape)\n",
    "        feeds = {x: batch_xs, y: batch_ys}\n",
    "        sess.run(optimizer, feed_dict=feeds)\n",
    "        avg_cost += sess.run(cross_entropy, feed_dict=feeds) # to calculate the cost\n",
    "    avg_cost = avg_cost / total_batch\n",
    "    # display\n",
    "    if (epoch+1) % 1 == 0:\n",
    "        feeds = {x: batch_xs, y: batch_ys}\n",
    "        train_acc = sess.run(accuracy, feed_dict=feeds)    \n",
    "        feeds = {x: valid_dataset_flat, y: valid_labels_encoded}\n",
    "        valid_acc = sess.run(accuracy, feed_dict=feeds)\n",
    "        feeds = {x: test_dataset_flat, y: test_labels_encoded}\n",
    "        test_acc = sess.run(accuracy, feed_dict=feeds)\n",
    "        if valid_acc_best <= valid_acc:\n",
    "            valid_acc_best = valid_acc\n",
    "            test_acc_best = test_acc\n",
    "            save_path = saver.save(sess, model_path)\n",
    "        if (epoch+1) % display_step == 0:\n",
    "            print (\"Epoch: %03d/%03d cost: %.9f\" % (epoch, training_epochs, avg_cost))\n",
    "            print (\"Train Accuracy: %.3f\" % (train_acc))\n",
    "            print (\"Valid Accuracy: %.3f\" % (valid_acc))\n",
    "\n",
    "print (\"optimization finished \\n\")\n",
    "print (\"The best valid Accuracy: %.3f\" % (valid_acc_best))\n",
    "print (\"The test Accuracy for best valid Accuracy model: %.3f\" % (test_acc_best))\n",
    "sess.close()"
   ]
  },
  {
   "cell_type": "markdown",
   "metadata": {},
   "source": [
    "c. [Extra credits] Find better convolutional neural network architecture that give better results (at least enhancment of 3.0%) than the one built in part b (prove experimentally). [15 points]"
   ]
  },
  {
   "cell_type": "code",
   "execution_count": 15,
   "metadata": {
    "collapsed": true
   },
   "outputs": [],
   "source": [
    "def conv2d(x, W):\n",
    "  \"\"\"conv2d returns a 2d convolution layer with full stride.\"\"\"\n",
    "  return tf.nn.conv2d(x, W, strides=[1, 1, 1, 1], padding='SAME')\n",
    "\n",
    "\n",
    "def max_pool_2x2(x):\n",
    "  \"\"\"max_pool_2x2 downsamples a feature map by 2X.\"\"\"\n",
    "  return tf.nn.max_pool(x, ksize=[1, 2, 2, 1], strides=[1, 2, 2, 1], padding='SAME')\n",
    "\n",
    "#define a new CNN\n",
    "def deepnn_better(x):\n",
    "  # Reshape to use within a convolutional neural net.\n",
    "  # Last dimension is for \"features\" - there is only one here, since images are\n",
    "  # grayscale -- it would be 3 for an RGB image, 4 for RGBA, etc.\n",
    "  with tf.name_scope('reshape'):\n",
    "    x_image = tf.reshape(x, [-1, 28, 28, 1])\n",
    "\n",
    "  # First convolutional layer - maps one grayscale image to 32 feature maps.\n",
    "  with tf.name_scope('conv1'):\n",
    "    W_conv1 = weight_variable([5, 5, 1, 32])\n",
    "    b_conv1 = bias_variable([32])\n",
    "    h_conv1 = tf.nn.relu(conv2d(x_image, W_conv1) + b_conv1)\n",
    "\n",
    "  # Pooling layer - downsamples by 2X.\n",
    "  with tf.name_scope('pool1'):\n",
    "    h_pool1 = max_pool_2x2(h_conv1)\n",
    "\n",
    "  # Second convolutional layer -- maps 32 feature maps to 64.\n",
    "  with tf.name_scope('conv2'):\n",
    "    W_conv2 = weight_variable([5, 5, 32, 64])\n",
    "    b_conv2 = bias_variable([64])\n",
    "    h_conv2 = tf.nn.relu(conv2d(h_pool1, W_conv2) + b_conv2)\n",
    "\n",
    "  # Second pooling layer.\n",
    "  with tf.name_scope('pool2'):\n",
    "    h_pool2 = max_pool_2x2(h_conv2)\n",
    "\n",
    "  # Fully connected layer 1 -- after 2 round of downsampling, our 28x28 image\n",
    "  # is down to 7x7x64 feature maps -- maps this to 1024 features.\n",
    "  with tf.name_scope('fc1'):\n",
    "    W_fc1 = weight_variable([7 * 7 * 64, 1024])\n",
    "    b_fc1 = bias_variable([1024])\n",
    "\n",
    "    h_pool2_flat = tf.reshape(h_pool2, [-1, 7*7*64])\n",
    "    h_fc1 = tf.nn.relu(tf.matmul(h_pool2_flat, W_fc1) + b_fc1)\n",
    "\n",
    "  # Dropout - controls the complexity of the model, prevents co-adaptation of\n",
    "  # features.\n",
    "  with tf.name_scope('dropout'):\n",
    "    keep_prob = tf.placeholder(tf.float32)\n",
    "    h_fc1_drop = tf.nn.dropout(h_fc1, keep_prob)\n",
    "\n",
    "  # Map the 1024 features to 10 classes, one for each digit\n",
    "  with tf.name_scope('fc2'):\n",
    "    W_fc2 = weight_variable([1024, 10])\n",
    "    b_fc2 = bias_variable([10])\n",
    "\n",
    "    y_conv = tf.matmul(h_fc1_drop, W_fc2) + b_fc2\n",
    "  return y_conv, keep_prob"
   ]
  },
  {
   "cell_type": "code",
   "execution_count": 16,
   "metadata": {
    "collapsed": true
   },
   "outputs": [],
   "source": [
    "# We'll use the cross entropy loss function \n",
    "y_conv_1, keep_prob = deepnn_better(x)\n",
    "cross_entropy_1 = tf.reduce_mean(tf.nn.softmax_cross_entropy_with_logits(logits=y_conv_1, labels=y))\n",
    "\n",
    "# And classification accuracy\n",
    "correct_prediction_1 = tf.equal(tf.argmax(y_conv_1, 1), tf.argmax(y, 1))\n",
    "accuracy_1 = tf.reduce_mean(tf.cast(correct_prediction_1, tf.float32))\n",
    "\n",
    "# And the Adam optimiser\n",
    "optimizer = tf.train.AdamOptimizer(1e-4).minimize(cross_entropy_1)\n",
    "# global_step = tf.Variable(0)\n",
    "# learning_rate = tf.train.exponential_decay(0.05, global_step, 2000, 0.95)\n",
    "# optimizer = tf.train.AdagradOptimizer(learning_rate).minimize(cross_entropy_1, global_step=global_step)"
   ]
  },
  {
   "cell_type": "code",
   "execution_count": 17,
   "metadata": {},
   "outputs": [
    {
     "name": "stdout",
     "output_type": "stream",
     "text": [
      "ready to go ...\n",
      "Epoch: 003/015 cost: 0.337665183\n",
      "Train Accuracy: 0.866\n",
      "Valid Accuracy: 0.900\n",
      "Epoch: 007/015 cost: 0.253496353\n",
      "Train Accuracy: 0.898\n",
      "Valid Accuracy: 0.918\n",
      "Epoch: 011/015 cost: 0.201691544\n",
      "Train Accuracy: 0.913\n",
      "Valid Accuracy: 0.922\n",
      "optimization finished \n",
      "\n",
      "The best valid Accuracy: 0.922\n",
      "The test Accuracy for best valid Accuracy model: 0.973\n"
     ]
    }
   ],
   "source": [
    "# Start a tf session and run the optimisation algorithm\n",
    "sess = tf.Session()\n",
    "sess.run(tf.global_variables_initializer())\n",
    "\n",
    "# Training params\n",
    "training_epochs = 15\n",
    "batch_size      = 128 # use mini-batch\n",
    "display_step    = 4 # display results every epoch\n",
    "valid_acc_best = 0.\n",
    "test_acc_betst =0.\n",
    "\n",
    "print (\"ready to go ...\")\n",
    "# optimization code, we used here stochastic gradient descent SGD.\n",
    "for epoch in range(training_epochs):\n",
    "    avg_cost = 0.\n",
    "    total_batch = int(train_dataset_flat.shape[0]/batch_size)\n",
    "    # iterate\n",
    "    for i in range(total_batch):\n",
    "        batch_xs = train_dataset_flat[batch_size*i:batch_size*(i+1)-1]\n",
    "        #print(batch_xs.shape)\n",
    "        batch_ys = train_labels_encoded[batch_size*i:batch_size*(i+1)-1]\n",
    "        #print(batch_ys.shape)\n",
    "        feeds = {x: batch_xs, y: batch_ys, keep_prob: 0.5}\n",
    "        sess.run(optimizer, feed_dict=feeds)\n",
    "        avg_cost += sess.run(cross_entropy_1, feed_dict=feeds) # to calculate the cost\n",
    "    avg_cost = avg_cost / total_batch\n",
    "    # display\n",
    "    if (epoch+1) % 1 == 0:\n",
    "        feeds = {x: batch_xs, y: batch_ys, keep_prob: 0.5}\n",
    "        train_acc = sess.run(accuracy_1, feed_dict=feeds)    \n",
    "        feeds = {x: valid_dataset_flat, y: valid_labels_encoded, keep_prob: 1}\n",
    "        valid_acc = sess.run(accuracy_1, feed_dict=feeds)\n",
    "        feeds = {x: test_dataset_flat, y: test_labels_encoded, keep_prob: 1}\n",
    "        test_acc = sess.run(accuracy_1, feed_dict=feeds)\n",
    "        if valid_acc_best <= valid_acc:\n",
    "            valid_acc_best = valid_acc\n",
    "            test_acc_best = test_acc\n",
    "        if (epoch+1) % display_step == 0:\n",
    "            print (\"Epoch: %03d/%03d cost: %.9f\" % (epoch, training_epochs, avg_cost))\n",
    "            print (\"Train Accuracy: %.3f\" % (train_acc))\n",
    "            print (\"Valid Accuracy: %.3f\" % (valid_acc))\n",
    "\n",
    "print (\"optimization finished \\n\")\n",
    "print (\"The best valid Accuracy: %.3f\" % (valid_acc_best))\n",
    "print (\"The test Accuracy for best valid Accuracy model: %.3f\" % (test_acc_best))\n",
    "sess.close()"
   ]
  },
  {
   "cell_type": "markdown",
   "metadata": {},
   "source": [
    "d. [Extra credits] Visualize all the 32 filters in the first convolution layer. Each of shape 12x12x1, they might be viewed as greyscale images. [15 points]"
   ]
  },
  {
   "cell_type": "code",
   "execution_count": 48,
   "metadata": {},
   "outputs": [
    {
     "name": "stdout",
     "output_type": "stream",
     "text": [
      "INFO:tensorflow:Restoring parameters from /Users/yujieli/Desktop/best_model.ckpt\n"
     ]
    },
    {
     "data": {
      "image/png": "[encoded data removed]",
      "text/plain": [
       "<matplotlib.figure.Figure at 0x12aee5080>"
      ]
     },
     "metadata": {},
     "output_type": "display_data"
    }
   ],
   "source": [
    "def plot_conv_weights(weights, input_channel=0):\n",
    "    #use saved sess\n",
    "    model_path = os.path.expanduser(\"~/Desktop/best_model.ckpt\")\n",
    "    sess = tf.Session()\n",
    "    saver = tf.train.Saver()\n",
    "    saver.restore(sess, model_path)\n",
    "    \n",
    "    # Retrieve the values of the weight-variables from TensorFlow.\n",
    "    w = sess.run(weights)\n",
    "    # Get the lowest and highest values for the weights.\n",
    "    w_min = np.min(w)\n",
    "    w_max = np.max(w)\n",
    "    # Number of filters used in the conv. layer.\n",
    "    num_filters = w.shape[3]\n",
    "    # Number of grids to plot.\n",
    "    # Rounded-up, square-root of the number of filters.\n",
    "    num_grids = math.ceil(math.sqrt(num_filters))\n",
    "    \n",
    "    # Create figure with a grid of sub-plots.\n",
    "    fig, axes = plt.subplots(num_grids, num_grids)\n",
    "\n",
    "    # Plot all the filter-weights.\n",
    "    for i, ax in enumerate(axes.flat):\n",
    "        # Only plot the valid filter-weights.\n",
    "        if i<num_filters:\n",
    "            # Get the weights for the i'th filter of the input channel.\n",
    "            # See new_conv_layer() for details on the format\n",
    "            # of this 4-dim tensor.\n",
    "            img = w[:, :, input_channel, i]\n",
    "\n",
    "            # Plot image.\n",
    "            ax.imshow(img, vmin=w_min, vmax=w_max,\n",
    "                      interpolation='nearest', cmap=plt.cm.gray)\n",
    "        \n",
    "        # Remove ticks from the plot.\n",
    "        ax.set_xticks([])\n",
    "        ax.set_yticks([])\n",
    "    \n",
    "    # Ensure the plot is shown correctly with multiple plots\n",
    "    # in a single Notebook cell.\n",
    "    plt.show()\n",
    "\n",
    "#visualize the 25 filters in the first layer\n",
    "plot_conv_weights(W_conv1)"
   ]
  },
  {
   "cell_type": "code",
   "execution_count": null,
   "metadata": {
    "collapsed": true
   },
   "outputs": [],
   "source": []
  }
 ],
 "metadata": {
  "kernelspec": {
   "display_name": "Python 3",
   "language": "python",
   "name": "python3"
  },
  "language_info": {
   "codemirror_mode": {
    "name": "ipython",
    "version": 3
   },
   "file_extension": ".py",
   "mimetype": "text/x-python",
   "name": "python",
   "nbconvert_exporter": "python",
   "pygments_lexer": "ipython3",
   "version": "3.7.3"
  }
 },
 "nbformat": 4,
 "nbformat_minor": 2
}
