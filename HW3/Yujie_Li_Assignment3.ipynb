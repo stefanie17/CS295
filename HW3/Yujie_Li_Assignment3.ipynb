{
 "cells": [
  {
   "cell_type": "markdown",
   "metadata": {},
   "source": [
    "# Getting Python\n",
    "\n",
    "\n",
    "For this course, we are going to use Jupyter notebook as our environment for developing Python code.\n",
    "refer to https://jupyter.readthedocs.io/en/latest/content-quickstart.html on the instructions how to install it, the easiest way is to install from Anaconda (https://www.anaconda.com/download/) website, make sure you install (Version 4.4.0, Release Date: May 31, 2017) with Python 3.6.\n",
    "\n",
    "Also, it is good for the students who are not familiar with python (or they need a quick refreshment) to follow Jim Bagrow tutorial http://bagrow.com/ds1/whirlwindtourpython/00-Title.html. \n",
    "\n",
    "All the assignments to be written in Python 3.6 and can be run using Jupyter on one of the following Internet browsers (Chrome, Safari or Firefox), these are the browsers that officially supported by jupyter.\n",
    "\n",
    "<u> Note: for this assignment, submit your local copy of this page, running on IPython. Submit the file to Blackboard under Assignment1 using this file format:</u> <b>Yourfirstname_lastname_Assignment2.ipynb</b> \n",
    "\n",
    "#### <b>Deadline</b>: <u>Thursday, Nov-01-2017 11:59 PM.</u>\n"
   ]
  },
  {
   "cell_type": "markdown",
   "metadata": {},
   "source": [
    "# Assignment 3 -- Part 1\n",
    "\n",
    "In this part, you will use SVM from sklearn to classify non-linearly sperable datasets. \n",
    "\n",
    "Hint: Refer to the example in sklearn http://scikit-learn.org/stable/auto_examples/svm/plot_iris.html, you can use this code or part of it in your solutions.\n",
    "\n",
    "Load (using load_breast_cancer) datasets from sklearn (datasets.load_breast_cancer()):\n",
    "\n"
   ]
  },
  {
   "cell_type": "markdown",
   "metadata": {},
   "source": [
    "a. select and evalute the \"best kernal SVM\" and the \"worse kernel SVM\" model could fit this dataset (you can impericlly select the hyperparameters values), justify your answer.[15 pts]"
   ]
  },
  {
   "cell_type": "code",
   "execution_count": 2,
   "metadata": {},
   "outputs": [
    {
     "name": "stdout",
     "output_type": "stream",
     "text": [
      "0.0\n",
      "0.921243290304\n",
      "******************** SVM with Gaussian kernal ********************\n",
      "             precision    recall  f1-score   support\n",
      "\n",
      "          0       0.99      0.94      0.97       212\n",
      "          1       0.97      0.99      0.98       357\n",
      "\n",
      "avg / total       0.98      0.98      0.98       569\n",
      "\n",
      "[[200  12]\n",
      " [  2 355]]\n",
      "******************** SVM with Linear kernal ********************\n",
      "             precision    recall  f1-score   support\n",
      "\n",
      "          0       0.93      0.95      0.94       212\n",
      "          1       0.97      0.96      0.96       357\n",
      "\n",
      "avg / total       0.96      0.96      0.96       569\n",
      "\n",
      "[[202  10]\n",
      " [ 15 342]]\n"
     ]
    }
   ],
   "source": [
    "import pandas as pd\n",
    "import numpy as np\n",
    "import matplotlib.pyplot as plt\n",
    "from sklearn import svm, datasets, metrics\n",
    "from sklearn.datasets import load_breast_cancer\n",
    "from sklearn import preprocessing\n",
    "from sklearn.svm import SVC\n",
    "from sklearn.model_selection import train_test_split\n",
    "from sklearn.tree import DecisionTreeClassifier\n",
    "from sklearn.ensemble import RandomForestClassifier\n",
    "from sklearn.metrics import accuracy_score\n",
    "from sklearn.model_selection import cross_val_score\n",
    "from sklearn.model_selection import cross_val_predict\n",
    "from sklearn.model_selection import GridSearchCV\n",
    "from sklearn.model_selection import RandomizedSearchCV\n",
    "from sklearn.ensemble import ExtraTreesClassifier\n",
    "from scipy.stats import randint as sp_randint\n",
    "from scipy.stats import mode\n",
    "from random import randrange\n",
    "\n",
    "# import data\n",
    "dataset = load_breast_cancer()\n",
    "#print(type(dataset))\n",
    "#print(dataset.target.shape)\n",
    "\n",
    "# Take the features and preprocessing\n",
    "X = dataset.data\n",
    "y = dataset.target\n",
    "\n",
    "normalized_X = preprocessing.normalize(X)\n",
    "standardized_X = preprocessing.scale(X)\n",
    "\n",
    "print (np.amin(normalized_X))\n",
    "print(np.amax(normalized_X))\n",
    "\n",
    "C = 1e6\n",
    "\n",
    "#SVM with gaussian kernals\n",
    "model_g = SVC(kernel='rbf', gamma=1e-8, C=C, random_state=0)\n",
    "y_pred_g = cross_val_predict(model_g, standardized_X, y, cv=5)\n",
    "print('******************** SVM with Gaussian kernal ********************')\n",
    "print(metrics.classification_report(y, y_pred_g))\n",
    "print(metrics.confusion_matrix(y, y_pred_g))\n",
    "\n",
    "#SVM with linear kernals\n",
    "model_l = SVC(kernel='linear', C=C, random_state=0)\n",
    "y_pred_l = cross_val_predict(model_l, standardized_X, y, cv=5)\n",
    "print('******************** SVM with Linear kernal ********************')\n",
    "print(metrics.classification_report(y, y_pred_l))\n",
    "print(metrics.confusion_matrix(y, y_pred_l))\n",
    "\n"
   ]
  },
  {
   "cell_type": "markdown",
   "metadata": {},
   "source": [
    "According to the dataset, if d (number of training samples) is small (up to 1000), and n (number of features) is intermediate (up to 10,000), SVM with gaussian kernal is better to use. In this case, d=569 and n=30, so SVM with gaussian kernal is the \"best kernal SVM\" and SVM with linear kernal is the \"worse kernal SVM\".\n",
    "\n",
    "The result of cross validation accuracy for gaussian and linear kernals show as follow, we can see the SVM with gaussian kernal is better than the SVM with linear kernal."
   ]
  },
  {
   "cell_type": "markdown",
   "metadata": {},
   "source": [
    "b. report the cross validation accuracy for the \"best kernel SVM\" and the \"worse kernel SVM\" classifier.[15 pts]"
   ]
  },
  {
   "cell_type": "code",
   "execution_count": 3,
   "metadata": {},
   "outputs": [
    {
     "name": "stdout",
     "output_type": "stream",
     "text": [
      "******************** SVM with Gaussian kernal ********************\n",
      "             precision    recall  f1-score   support\n",
      "\n",
      "          0       0.99      0.94      0.97       212\n",
      "          1       0.97      0.99      0.98       357\n",
      "\n",
      "avg / total       0.98      0.98      0.98       569\n",
      "\n",
      "[[200  12]\n",
      " [  2 355]]\n",
      "******************** SVM with Linear kernal ********************\n",
      "             precision    recall  f1-score   support\n",
      "\n",
      "          0       0.93      0.95      0.94       212\n",
      "          1       0.97      0.96      0.96       357\n",
      "\n",
      "avg / total       0.96      0.96      0.96       569\n",
      "\n",
      "[[202  10]\n",
      " [ 15 342]]\n"
     ]
    }
   ],
   "source": [
    "print('******************** SVM with Gaussian kernal ********************')\n",
    "print(metrics.classification_report(y, y_pred_g))\n",
    "print(metrics.confusion_matrix(y, y_pred_g))\n",
    "\n",
    "print('******************** SVM with Linear kernal ********************')\n",
    "print(metrics.classification_report(y, y_pred_l))\n",
    "print(metrics.confusion_matrix(y, y_pred_l))"
   ]
  },
  {
   "cell_type": "markdown",
   "metadata": {
    "collapsed": true
   },
   "source": [
    "c. Using random search, what is the optimimum hyperparameter values for the \"optimum model\" ?[20 pts]"
   ]
  },
  {
   "cell_type": "code",
   "execution_count": 4,
   "metadata": {},
   "outputs": [
    {
     "name": "stdout",
     "output_type": "stream",
     "text": [
      "0.978910369069\n",
      "The optimum gamma for gaussian kernal is\n",
      " 4.38393580875e-09\n",
      "The optimum C for gaussian kernal is\n",
      " 9371242.5742\n",
      "******************** SVM with Gaussian kernal ********************\n",
      "             precision    recall  f1-score   support\n",
      "\n",
      "          0       0.99      0.94      0.97       212\n",
      "          1       0.97      0.99      0.98       357\n",
      "\n",
      "avg / total       0.98      0.98      0.98       569\n",
      "\n",
      "[[200  12]\n",
      " [  2 355]]\n"
     ]
    }
   ],
   "source": [
    "# create and fit a ridge regression model, testing each alpha\n",
    "model = SVC(gamma=0.0000007)\n",
    "\n",
    "#decide the range according to the hyperparameters selection empirically in the first question\n",
    "C_range = np.logspace(5, 7, 10000)\n",
    "gamma_range = np.logspace(-9, -7, 10000)\n",
    "\n",
    "\n",
    "# specify parameters and distributions to sample from\n",
    "param_dist = {\"gamma\": gamma_range,\n",
    "              \"C\": C_range}\n",
    "\n",
    "# run randomized search\n",
    "n_iter_search = 100\n",
    "random_search = RandomizedSearchCV(model, param_distributions=param_dist, n_iter=n_iter_search)\n",
    "\n",
    "random_search.fit(standardized_X, y)\n",
    "\n",
    "best_gamma = random_search.best_estimator_.gamma\n",
    "best_C = random_search.best_estimator_.C\n",
    "\n",
    "# summarize the results of the random search\n",
    "print(random_search.best_score_)\n",
    "print('The optimum gamma for gaussian kernal is\\n', best_gamma)\n",
    "print('The optimum C for gaussian kernal is\\n', best_C)\n",
    "\n",
    "model_g_optimum = SVC(kernel='rbf', gamma=best_gamma, C = best_C)\n",
    "y_pred_g_optimum  = cross_val_predict(model_g_optimum , standardized_X, y, cv=5)\n",
    "\n",
    "print('******************** SVM with Gaussian kernal ********************')\n",
    "print(metrics.classification_report(y, y_pred_g_optimum))\n",
    "print(metrics.confusion_matrix(y, y_pred_g_optimum))\n"
   ]
  },
  {
   "cell_type": "markdown",
   "metadata": {},
   "source": [
    "d. (This part for gradaute students only): Randomly select 20 % data for testing and the reset for training. plot the decision surface for \"worse SVM\", \"best SVM\" and \"optimum SVM\" and report the accuracy result for each one, you can use build-in sklean function for visulization.[20 pts]"
   ]
  },
  {
   "cell_type": "code",
   "execution_count": 5,
   "metadata": {},
   "outputs": [
    {
     "name": "stdout",
     "output_type": "stream",
     "text": [
      "Relative importance of each attribute\n",
      " [ 0.01725187  0.01320357  0.06349311  0.1147696   0.00773111  0.01885758\n",
      "  0.11902489  0.06283854  0.00987869  0.01257364  0.00837636  0.00624402\n",
      "  0.02042836  0.01887639  0.00774234  0.00810453  0.00801813  0.00678407\n",
      "  0.0088145   0.00856559  0.09249527  0.02673948  0.12326299  0.03701585\n",
      "  0.01490545  0.01315651  0.0136514   0.11395917  0.01620687  0.00703013]\n"
     ]
    }
   ],
   "source": [
    "model = ExtraTreesClassifier(random_state=0)\n",
    "model.fit(standardized_X, y)\n",
    "# display the relative importance of each attribute\n",
    "print('Relative importance of each attribute\\n', model.feature_importances_)"
   ]
  },
  {
   "cell_type": "code",
   "execution_count": 6,
   "metadata": {},
   "outputs": [
    {
     "name": "stdout",
     "output_type": "stream",
     "text": [
      "******************** Best SVM (SVM with Gaussian kernal) ********************\n",
      "Train accuracy: 0.984615384615\n",
      "Test accuracy: 0.964912280702\n",
      "******************** Worse SVM (SVM with Linear kernal) ********************\n",
      "Train accuracy: 1.0\n",
      "Test accuracy: 0.956140350877\n",
      "******************** Optimum SVM (Gaussian kernal with optimum gamma and C)********************\n",
      "Train accuracy: 0.986813186813\n",
      "Test accuracy: 0.964912280702\n"
     ]
    }
   ],
   "source": [
    "X_train, X_test, y_train, y_test = train_test_split( standardized_X, y, test_size = 0.2, random_state = 100)\n",
    "#print(type(X_train))\n",
    "\n",
    "# report accuracy for best model\n",
    "Best_model = SVC(kernel='rbf', gamma=1e-8, C=C)\n",
    "Best_model = Best_model.fit(X_train, y_train)\n",
    "y_predict_best = Best_model.predict(X_test)\n",
    "a1 = accuracy_score(y_test, y_predict_best)\n",
    "b1 = accuracy_score(y_train, Best_model.predict(X_train))\n",
    "print('******************** Best SVM (SVM with Gaussian kernal) ********************')\n",
    "print('Train accuracy:', b1)\n",
    "print('Test accuracy:', a1)\n",
    "\n",
    "# report accuracy for worse model\n",
    "Worse_model = SVC(kernel='linear', C=C)\n",
    "Worse_model = Worse_model.fit(X_train, y_train)\n",
    "y_predict_worse = Worse_model.predict(X_test)\n",
    "a2 = accuracy_score(y_test, y_predict_worse)\n",
    "b2 = accuracy_score(y_train, Worse_model.predict(X_train))\n",
    "print('******************** Worse SVM (SVM with Linear kernal) ********************')\n",
    "print('Train accuracy:',b2)\n",
    "print('Test accuracy:',a2)\n",
    "\n",
    "# report accuracy for optimum model\n",
    "Optimum_model = SVC(kernel='rbf', gamma=best_gamma, C=best_C)\n",
    "Optimum_model = Optimum_model.fit(X_train, y_train)\n",
    "y_predict_optimum = Optimum_model.predict(X_test)\n",
    "a3 = accuracy_score(y_test, y_predict_optimum)\n",
    "b3 = accuracy_score(y_train, Optimum_model.predict(X_train))\n",
    "print('******************** Optimum SVM (Gaussian kernal with optimum gamma and C)********************')\n",
    "print('Train accuracy:',b3)\n",
    "print('Test accuracy:',a3)\n"
   ]
  },
  {
   "cell_type": "code",
   "execution_count": 7,
   "metadata": {
    "collapsed": true
   },
   "outputs": [],
   "source": [
    "# creat a mesh of points to plot in parameters\n",
    "def make_meshgrid(x, y, h=.02):\n",
    "    x_min, x_max = x.min() - 1, x.max() + 1\n",
    "    y_min, y_max = y.min() - 1, y.max() + 1\n",
    "    xx, yy = np.meshgrid(np.arange(x_min, x_max, h),\n",
    "                         np.arange(y_min, y_max, h))\n",
    "    return xx, yy\n",
    "\n",
    "# plot the decision boundaries for a classifier\n",
    "def plot_contours(ax, clf, xx, yy, **params):\n",
    "    Z = clf.predict(np.c_[xx.ravel(), yy.ravel()])\n",
    "    Z = Z.reshape(xx.shape)\n",
    "    out = ax.contourf(xx, yy, Z, **params)\n",
    "    return out\n",
    "\n",
    "y = dataset.target\n",
    "\n",
    "models = (SVC(kernel='linear', C=C),\n",
    "          SVC(kernel='rbf', gamma=1e-8, C=C),\n",
    "          SVC(kernel='rbf', gamma=best_gamma, C=best_C))\n",
    "\n",
    "# title for the plots\n",
    "titles = ('Worse SVM (linear)',\n",
    "          'Best SVM (gaussian)',\n",
    "          'Optimum SVM (gaussian with optimum gamma and C)')"
   ]
  },
  {
   "cell_type": "code",
   "execution_count": 8,
   "metadata": {},
   "outputs": [
    {
     "name": "stdout",
     "output_type": "stream",
     "text": [
      "******************** Decision boundary for two most important features ********************\n"
     ]
    },
    {
     "data": {
      "image/png": "[encoded data removed]",
      "text/plain": [
       "<matplotlib.figure.Figure at 0x10c3e76d8>"
      ]
     },
     "metadata": {},
     "output_type": "display_data"
    }
   ],
   "source": [
    "#choose 2 most significant features\n",
    "X_1 = standardized_X[:,[6, 22]]\n",
    "\n",
    "#plot decision boundary for two most significant features\n",
    "models_1 = (clf.fit(X_1, y) for clf in models)\n",
    "\n",
    "# Set-up 3 grid for plotting.\n",
    "fig1, sub = plt.subplots(3, 1)\n",
    "plt.subplots_adjust(wspace=1, hspace=1)\n",
    "\n",
    "X0, X1 = X_1[:, 0], X_1[:, 1]\n",
    "xx, yy = make_meshgrid(X0, X1)\n",
    "\n",
    "for clf, title, ax in zip(models_1, titles, sub.flatten()):\n",
    "    plot_contours(ax, clf, xx, yy, cmap=plt.cm.coolwarm, alpha=0.8)\n",
    "    ax.scatter(X0, X1, c=y, cmap=plt.cm.coolwarm, s=20, edgecolors='k')\n",
    "    ax.set_xlim(xx.min(), xx.max())\n",
    "    ax.set_ylim(yy.min(), yy.max())\n",
    "    ax.set_xlabel('feature 1')\n",
    "    ax.set_ylabel('feature 2')\n",
    "    ax.set_xticks(())\n",
    "    ax.set_yticks(())\n",
    "    ax.set_title(title)\n",
    "\n",
    "print('******************** Decision boundary for two most important features ********************')\n",
    "plt.show()\n"
   ]
  },
  {
   "cell_type": "code",
   "execution_count": 9,
   "metadata": {},
   "outputs": [
    {
     "name": "stdout",
     "output_type": "stream",
     "text": [
      "******************** Decision boundary for two most upimportant features ********************\n"
     ]
    },
    {
     "data": {
      "image/png": "[encoded data removed]",
      "text/plain": [
       "<matplotlib.figure.Figure at 0x11b17da90>"
      ]
     },
     "metadata": {},
     "output_type": "display_data"
    }
   ],
   "source": [
    "#choose 2 most unimportant features\n",
    "X_2 = standardized_X[:,[11, 17]]\n",
    "\n",
    "#plot decision boundary for two most significant features\n",
    "models_2 = (clf.fit(X_2, y) for clf in models)\n",
    "\n",
    "# Set-up 3 grid for plotting.\n",
    "fig2, sub = plt.subplots(3, 1)\n",
    "plt.subplots_adjust(wspace=1, hspace=1)\n",
    "\n",
    "X2, X3 = X_2[:, 0], X_2[:, 1]\n",
    "xx, yy = make_meshgrid(X2, X3)\n",
    "\n",
    "for clf, title, ax in zip(models_2, titles, sub.flatten()):\n",
    "    plot_contours(ax, clf, xx, yy, cmap=plt.cm.coolwarm, alpha=0.8)\n",
    "    ax.scatter(X0, X1, c=y, cmap=plt.cm.coolwarm, s=20, edgecolors='k')\n",
    "    ax.set_xlim(xx.min(), xx.max())\n",
    "    ax.set_ylim(yy.min(), yy.max())\n",
    "    ax.set_xlabel('feature 3')\n",
    "    ax.set_ylabel('feature 4')\n",
    "    ax.set_xticks(())\n",
    "    ax.set_yticks(())\n",
    "    ax.set_title(title)\n",
    "\n",
    "print('******************** Decision boundary for two most upimportant features ********************')\n",
    "plt.show()"
   ]
  },
  {
   "cell_type": "markdown",
   "metadata": {},
   "source": [
    "# Assignment 3 -- Part 2\n",
    "\n",
    "In this part, you will use decision tree from sklearn to classify non-linearly sperable datasets. \n",
    "\n",
    "\n",
    "Load Car Evaluation Data Set from https://archive.ics.uci.edu/ml/machine-learning-databases/car/car.data, read the dataset description and get faimilir with the dataset attributes https://archive.ics.uci.edu/ml/machine-learning-databases/car/car.names\n",
    "\n"
   ]
  },
  {
   "cell_type": "markdown",
   "metadata": {
    "collapsed": true
   },
   "source": [
    "a. Use decision tree to classify the dataset (evaluate cars to one of the four classes unacc, acc, good, v-good), use cross validation to report your results, you can use sklearn.tree.DecisionTreeClassifier .[25 pts]\n"
   ]
  },
  {
   "cell_type": "code",
   "execution_count": 10,
   "metadata": {},
   "outputs": [
    {
     "name": "stdout",
     "output_type": "stream",
     "text": [
      "             precision    recall  f1-score   support\n",
      "\n",
      "          0       0.56      0.53      0.54       384\n",
      "          1       0.45      0.77      0.56        69\n",
      "          2       0.92      0.88      0.90      1209\n",
      "          3       0.47      0.58      0.52        65\n",
      "\n",
      "avg / total       0.80      0.79      0.79      1727\n",
      "\n",
      "[[ 205   50   90   39]\n",
      " [   9   53    4    3]\n",
      " [ 141    3 1065    0]\n",
      " [  14   13    0   38]]\n"
     ]
    }
   ],
   "source": [
    "url = \"https://archive.ics.uci.edu/ml/machine-learning-databases/car/car.data\"\n",
    "# download the file\n",
    "data_car = pd.read_csv(url)\n",
    "data_car.columns = ['Buying', 'Maint', 'Doors', 'Persons', 'Lug_boot', 'Safety', 'Class']\n",
    "#print(data_car.head())\n",
    "\n",
    "#encode strings as numeric features\n",
    "le = preprocessing.LabelEncoder()\n",
    "data_car = data_car.apply(le.fit_transform)\n",
    "\n",
    "#separate the data from the target attributes\n",
    "dataset_car = data_car.as_matrix()\n",
    "#print(dataset_car)\n",
    "X_car = dataset_car[:,0:6]\n",
    "y_car = dataset_car[:,6]\n",
    "\n",
    "# fit a CART model to the data\n",
    "model_d = DecisionTreeClassifier()\n",
    "#scores = cross_val_score(model_d, X_car, y_car, cv=5, scoring='f1_macro')\n",
    "y_car_pred = cross_val_predict(model_d, X_car, y_car, cv=5)\n",
    "print(metrics.classification_report(y_car, y_car_pred))\n",
    "print(metrics.confusion_matrix(y_car, y_car_pred))\n",
    "#print(np.average(scores))"
   ]
  },
  {
   "cell_type": "markdown",
   "metadata": {},
   "source": [
    "b. what is the optimum min_samples_split (The minimum number of samples required to split an internal node), does it make sense? why ?[25 pts]\n",
    "\n"
   ]
  },
  {
   "cell_type": "code",
   "execution_count": 11,
   "metadata": {},
   "outputs": [
    {
     "name": "stdout",
     "output_type": "stream",
     "text": [
      "The optimum min_samples_split is \n",
      " 2\n",
      "************************Cross validation*************************************\n",
      "             precision    recall  f1-score   support\n",
      "\n",
      "          0       0.54      0.56      0.55       384\n",
      "          1       0.39      0.75      0.51        69\n",
      "          2       0.95      0.88      0.91      1209\n",
      "          3       0.54      0.62      0.58        65\n",
      "\n",
      "avg / total       0.82      0.79      0.80      1727\n",
      "\n",
      "[[ 216   78   56   34]\n",
      " [  13   52    4    0]\n",
      " [ 145    5 1059    0]\n",
      " [  25    0    0   40]]\n",
      "********************Train and Test accuracy*****************************************\n",
      "Train accuracy is \n",
      " 1.0\n",
      "Test accuracy is \n",
      " 0.979768786127\n",
      "             precision    recall  f1-score   support\n",
      "\n",
      "          0       1.00      0.94      0.97        77\n",
      "          1       1.00      0.86      0.92        14\n",
      "          2       0.98      1.00      0.99       239\n",
      "          3       0.89      1.00      0.94        16\n",
      "\n",
      "avg / total       0.98      0.98      0.98       346\n",
      "\n"
     ]
    },
    {
     "name": "stderr",
     "output_type": "stream",
     "text": []
    }
   ],
   "source": [
    "# using grid search to find optimum min_samples_split parameter\n",
    "min_split = np.arange(2,20)\n",
    "\n",
    "model = DecisionTreeClassifier()\n",
    "grid = GridSearchCV(estimator=model, param_grid=dict(min_samples_split= min_split))\n",
    "grid.fit(X_car, y_car)\n",
    "#print(grid)\n",
    "\n",
    "# summarize the results of the grid search\n",
    "#print(grid.best_score_)\n",
    "best_split = grid.best_estimator_.min_samples_split\n",
    "print('The optimum min_samples_split is \\n', best_split)\n",
    "\n",
    "# clf = DecisionTreeClassifier(min_samples_split=best_split, max_depth=best_depth, min_samples_leaf=best_leaf)\n",
    "# clf = clf.fit(X_car, y_car)\n",
    "# export_graphviz(clf, out_file='tree.dot')    \n",
    "model_dm = DecisionTreeClassifier(min_samples_split=best_split, class_weight=\"balanced\", random_state=100)\n",
    "y_car_dm_pred = cross_val_predict(model_dm, X_car, y_car, cv=5)\n",
    "scores_dm = cross_val_score(model_dm, X_car, y_car, cv=5, scoring='f1_macro')\n",
    "print('************************Cross validation*************************************')\n",
    "print(metrics.classification_report(y_car, y_car_dm_pred))\n",
    "print(metrics.confusion_matrix(y_car, y_car_dm_pred))\n",
    "#print(np.average(scores_dm))\n",
    "\n",
    "X_car_train, X_car_test, y_car_train, y_car_test = train_test_split( X_car, y_car, test_size = 0.2, random_state=0)\n",
    "trained_model = model_dm.fit(X_car_train, y_car_train)\n",
    "predictions = trained_model.predict(X_car_test)\n",
    "\n",
    "print('********************Train and Test accuracy*****************************************')\n",
    "print('Train accuracy is \\n', accuracy_score(y_car_train, trained_model.predict(X_car_train)))\n",
    "print('Test accuracy is \\n',accuracy_score(y_car_test, predictions))\n",
    "print(metrics.classification_report(y_car_test, predictions))\n",
    " "
   ]
  },
  {
   "cell_type": "markdown",
   "metadata": {},
   "source": [
    "Using grid search, the optimum min_samples_split is 2. Comparing the cross validation results for all dataset, the results for optimum model is better than the results from model without optimum parameters.\n",
    "\n",
    "Also, 20% data was randomly selected for testing and the reset for training. According to the accurarcy for training and testing data and the cross validation results for testing dataset, all of them get very high socore. Thus, optimum min_samples_split=2 is a good choice for this dataset."
   ]
  },
  {
   "cell_type": "markdown",
   "metadata": {},
   "source": [
    "C. (This part for graduate students only): Implement random forest classifer by defining multiple (DecisionTreeClassifier)'s from sklearn, you can use the max_features from DecisionTreeClassifier, compare your results to RandomForestClassifier from sklearn. Note: in this part implement the bagging/ensmble by yourself without calling build-in functions from sklearn (you still can use RandomForestClassifier from sklearn with max_features if you find it needed).[25 pts]"
   ]
  },
  {
   "cell_type": "code",
   "execution_count": 12,
   "metadata": {
    "collapsed": true
   },
   "outputs": [],
   "source": [
    "# Create a random subsample from the dataset with replacement\n",
    "def subsample(dataset, feature, ratio):\n",
    "    n = dataset.shape[0]\n",
    "    num_sample = round(n * ratio)\n",
    "    sample = np.zeros(shape=(num_sample, feature))\n",
    "    for i in range(n):\n",
    "        if i < sample.shape[0]:\n",
    "            index = randrange(n)\n",
    "            sample[i] = dataset[index]\n",
    "    return sample\n",
    "\n",
    "#a = subsample(X_car, 6, 0.8)\n",
    "#print(a.shape)\n",
    "\n",
    "# Random Forest Algorithm\n",
    "def random_forest(train_data, test_data, n_trees, ratio):\n",
    "    predictions = np.zeros(test_data.shape[0])\n",
    "    for i in range(n_trees):\n",
    "        train_data_1 = subsample(train_data, 7, ratio)\n",
    "        train_X = train_data_1[:,0:6]\n",
    "        train_y = train_data_1[:,6]\n",
    "        test_X = test_data[:,0:6]\n",
    "        test_y = test_data[:,6]\n",
    "        model = DecisionTreeClassifier(max_features='sqrt')\n",
    "        trained_model = model.fit(train_X, train_y)\n",
    "        temp = trained_model.predict(test_X)\n",
    "        predictions = np.concatenate((predictions, temp), axis=0)\n",
    "    predictions_all = np.reshape(predictions, (n_trees+1, -1))\n",
    "    predictions_all_1 = predictions_all[1:]\n",
    "    m = mode(predictions_all_1)\n",
    "    temp = accuracy_score(test_y, m[0].T)\n",
    "    return(temp)"
   ]
  },
  {
   "cell_type": "code",
   "execution_count": 19,
   "metadata": {},
   "outputs": [
    {
     "name": "stdout",
     "output_type": "stream",
     "text": [
      "******************** Test accuracy with random_forest function************************\n",
      "Test accuracy is \n",
      " 0.968208092486\n",
      "********************Train and Test accuracy with RandomForestClassifier from sklearn************************\n",
      "Train accuracy is \n",
      " 1.0\n",
      "Test accuracy is \n",
      " 0.965317919075\n",
      "             precision    recall  f1-score   support\n",
      "\n",
      "          0       0.97      0.94      0.95        77\n",
      "          1       0.90      0.64      0.75        14\n",
      "          2       0.98      1.00      0.99       239\n",
      "          3       0.74      0.88      0.80        16\n",
      "\n",
      "avg / total       0.97      0.97      0.96       346\n",
      "\n"
     ]
    }
   ],
   "source": [
    "#using random_forest function\n",
    "print('******************** Test accuracy with random_forest function************************')\n",
    "dataset_car_train, dataset_car_test = train_test_split( dataset_car, test_size = 0.2, random_state=0)\n",
    "accuracy = random_forest(dataset_car_train, dataset_car_test, 17, 0.8)\n",
    "print('Test accuracy is \\n',accuracy)\n",
    "\n",
    "#using RandomForestClassifier from sklearn \n",
    "X_car_train = dataset_car_train[:,0:6]\n",
    "y_car_train = dataset_car_train[:,6]\n",
    "X_car_test = dataset_car_test[:,0:6]\n",
    "y_car_test = dataset_car_test[:,6]\n",
    "model = RandomForestClassifier(n_estimators = 17, max_features='sqrt')\n",
    "trained_model_rf = model.fit(X_car_train, y_car_train)\n",
    "predictions = trained_model_rf.predict(X_car_test)\n",
    "\n",
    "print('********************Train and Test accuracy with RandomForestClassifier from sklearn************************')\n",
    "print('Train accuracy is \\n', accuracy_score(y_car_train, trained_model_rf.predict(X_car_train)))\n",
    "print('Test accuracy is \\n',accuracy_score(y_car_test, predictions))\n",
    "print(metrics.classification_report(y_car_test, predictions))\n"
   ]
  },
  {
   "cell_type": "markdown",
   "metadata": {},
   "source": [
    "The same training dataset and testing dataset were used for random forest function I wrote and the RandomForestClassifier from sklearn, the accuracy for testing data are 0.968208092486 and 0.965317919075, which are very close."
   ]
  },
  {
   "cell_type": "code",
   "execution_count": null,
   "metadata": {
    "collapsed": true
   },
   "outputs": [],
   "source": []
  }
 ],
 "metadata": {
  "kernelspec": {
   "display_name": "Python 3",
   "language": "python",
   "name": "python3"
  },
  "language_info": {
   "codemirror_mode": {
    "name": "ipython",
    "version": 3
   },
   "file_extension": ".py",
   "mimetype": "text/x-python",
   "name": "python",
   "nbconvert_exporter": "python",
   "pygments_lexer": "ipython3",
   "version": "3.7.3"
  }
 },
 "nbformat": 4,
 "nbformat_minor": 2
}
